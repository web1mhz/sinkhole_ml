{
 "cells": [
  {
   "cell_type": "markdown",
   "metadata": {},
   "source": [
    "# Hyper-parameter 최적화: Spaceship Titanic\n",
    "#### 작성: 고우주 | kubwa 쿱와"
   ]
  },
  {
   "cell_type": "markdown",
   "metadata": {},
   "source": [
    "## 1. 패키지 불러오기"
   ]
  },
  {
   "cell_type": "code",
   "execution_count": null,
   "metadata": {
    "tags": []
   },
   "outputs": [],
   "source": [
    "import numpy as np\n",
    "import pandas as pd\n",
    "\n",
    "import seaborn as sns\n",
    "import matplotlib.pyplot as plt\n",
    "\n",
    "import warnings\n",
    "warnings.filterwarnings('ignore')"
   ]
  },
  {
   "cell_type": "code",
   "execution_count": null,
   "metadata": {
    "tags": []
   },
   "outputs": [],
   "source": [
    "from sklearn.model_selection import train_test_split\n",
    "from xgboost import XGBClassifier"
   ]
  },
  {
   "cell_type": "markdown",
   "metadata": {},
   "source": [
    "## 2. 데이터 불러오기 & 탐색"
   ]
  },
  {
   "cell_type": "code",
   "execution_count": null,
   "metadata": {
    "tags": []
   },
   "outputs": [],
   "source": [
    "df = pd.read_csv('../dataset/spaceship-preprocessing.csv')\n",
    "df.head()"
   ]
  },
  {
   "cell_type": "code",
   "execution_count": null,
   "metadata": {
    "tags": []
   },
   "outputs": [],
   "source": [
    "df.shape"
   ]
  },
  {
   "cell_type": "code",
   "execution_count": null,
   "metadata": {
    "tags": []
   },
   "outputs": [],
   "source": [
    "df['Transported'].value_counts()"
   ]
  },
  {
   "cell_type": "code",
   "execution_count": null,
   "metadata": {
    "tags": []
   },
   "outputs": [],
   "source": [
    "df.isnull().sum()"
   ]
  },
  {
   "cell_type": "code",
   "execution_count": null,
   "metadata": {
    "tags": []
   },
   "outputs": [],
   "source": [
    "plt.figure(figsize=(12, 12))\n",
    "sns.heatmap(df.corr('pearson'), annot=True, cmap='coolwarm')\n",
    "plt.show()"
   ]
  },
  {
   "cell_type": "markdown",
   "metadata": {},
   "source": [
    "## 2-Split the data"
   ]
  },
  {
   "cell_type": "code",
   "execution_count": null,
   "metadata": {
    "tags": []
   },
   "outputs": [],
   "source": [
    "X = df.drop('Transported' , axis =1 )\n",
    "y = df['Transported']\n",
    "X_train , X_test , y_train , y_test = train_test_split(X , \n",
    "                                                       y, \n",
    "                                                       random_state = 100,\n",
    "                                                       test_size =0.2)\n",
    "\n",
    "X_train.shape, X_test.shape"
   ]
  },
  {
   "cell_type": "markdown",
   "metadata": {},
   "source": [
    "## 3-Standardize Scale"
   ]
  },
  {
   "cell_type": "code",
   "execution_count": null,
   "metadata": {
    "tags": []
   },
   "outputs": [],
   "source": [
    "from sklearn.preprocessing import StandardScaler\n",
    "\n",
    "sc = StandardScaler()\n",
    "X_train = sc.fit_transform(X_train)\n",
    "X_test = sc.transform(X_test)"
   ]
  },
  {
   "cell_type": "code",
   "execution_count": null,
   "metadata": {
    "tags": []
   },
   "outputs": [],
   "source": [
    "from sklearn.model_selection import GridSearchCV, RandomizedSearchCV, cross_val_score\n",
    "\n",
    "def get_best_score(model):\n",
    "    \n",
    "    print(model.best_score_)\n",
    "    print(model.best_params_)\n",
    "    print(model.best_estimator_)\n",
    "    \n",
    "    return model.best_score_"
   ]
  },
  {
   "cell_type": "code",
   "execution_count": null,
   "metadata": {
    "tags": []
   },
   "outputs": [],
   "source": [
    "from sklearn.metrics import classification_report, ConfusionMatrixDisplay, RocCurveDisplay\n",
    "\n",
    "\n",
    "def plot_confusion_matrix(model, X_test, y_test):\n",
    "    disp = ConfusionMatrixDisplay.from_estimator(model,\n",
    "                                                 X_test, y_test,\n",
    "                                                 cmap=plt.cm.Blues)\n",
    "\n",
    "def plot_roc_curve(model, X_test, y_test):\n",
    "    RocCurveDisplay.from_estimator(model, X_test, y_test)\n",
    "    plt.show()\n",
    "    \n",
    "def evaluate(model, y_pred):\n",
    "    plot_confusion_matrix(model, X_test, y_test)\n",
    "    print(classification_report(y_test, y_pred))\n",
    "    plot_roc_curve(model, X_test, y_test)"
   ]
  },
  {
   "cell_type": "markdown",
   "metadata": {},
   "source": [
    "## 4-Parameter tuning `GridSearchCV`"
   ]
  },
  {
   "cell_type": "markdown",
   "metadata": {},
   "source": [
    "### XGBoost"
   ]
  },
  {
   "cell_type": "markdown",
   "metadata": {},
   "source": [
    "https://xgboost.readthedocs.io/en/latest/parameter.html"
   ]
  },
  {
   "cell_type": "markdown",
   "metadata": {},
   "source": [
    "> 주요 Hyper-parameter\n",
    "- max_depth: 개별 나무의 깊이 (나무를 대충하기 위해 작은값)\n",
    "- learning_rate: Boosting 단계 별로 가중치를 두는 학습율\n",
    "- n_estimators: 나무의 수\n",
    "- subsample: 각 나무를 학습할 때 사용하는 포인트 수의 비율 (0 초과 1 이하의 숫자로 비율 설정)\n",
    "- colsample_bytree: 각 나무에서 사용하는 features 수의 비율 (0 초과 1 이하의 숫자로 비율 설정)\n",
    "- gamma: 각 나무에서 분할하는데 필요한 최소 손실감소량\n",
    "- reg_lambda: 각 나무에 배정되는 weights에 대하여 L2-regularization 강도"
   ]
  },
  {
   "cell_type": "code",
   "execution_count": null,
   "metadata": {
    "tags": []
   },
   "outputs": [],
   "source": [
    "param_grid = {'max_depth': [3, 10],\n",
    "              'learning_rate': [0.001, 0.1],\n",
    "              'n_estimators': [100, 200],\n",
    "              'subsample': [0.7, 0.8],\n",
    "              'reg_lambda': [0.01, 0.1],\n",
    "              'colsample_bytree': [0.8, 1],\n",
    "              'gamma': [0.1, 0.9]\n",
    "              }"
   ]
  },
  {
   "cell_type": "code",
   "execution_count": null,
   "metadata": {
    "tags": []
   },
   "outputs": [],
   "source": [
    "from xgboost import XGBClassifier\n",
    "\n",
    "xgb = XGBClassifier(random_state=1234)\n",
    "xgb_grid = GridSearchCV(estimator=xgb, \n",
    "                        param_grid=param_grid, \n",
    "                        cv=3, \n",
    "                        verbose=2, \n",
    "                        n_jobs=-1)\n",
    "\n",
    "xgb_grid.fit(X_train, y_train)\n",
    "get_best_score(xgb_grid);"
   ]
  },
  {
   "cell_type": "code",
   "execution_count": null,
   "metadata": {
    "tags": []
   },
   "outputs": [],
   "source": [
    "y_pred_grid = xgb_grid.predict(X_test)\n",
    "evaluate(xgb_grid, y_pred_grid)"
   ]
  },
  {
   "cell_type": "markdown",
   "metadata": {},
   "source": [
    "## 5-Parameter tuning `RandomSearchCV`"
   ]
  },
  {
   "cell_type": "code",
   "execution_count": null,
   "metadata": {
    "tags": []
   },
   "outputs": [],
   "source": [
    "xgb = XGBClassifier(random_state=1234)\n",
    "xgb_rand = RandomizedSearchCV(xgb, \n",
    "                        param_grid, \n",
    "                        cv=3, \n",
    "                        verbose=2, \n",
    "                        n_jobs=-1)\n",
    "\n",
    "xgb_rand.fit(X_train, y_train)\n",
    "get_best_score(xgb_rand);"
   ]
  },
  {
   "cell_type": "code",
   "execution_count": null,
   "metadata": {
    "tags": []
   },
   "outputs": [],
   "source": [
    "y_pred_rand = xgb_rand.predict(X_test)\n",
    "evaluate(xgb_rand, y_pred_rand)"
   ]
  },
  {
   "cell_type": "markdown",
   "metadata": {},
   "source": [
    "## 6-Parameter tuning `BayesianOptimization`\n",
    "- https://github.com/fmfn/BayesianOptimization"
   ]
  },
  {
   "cell_type": "code",
   "execution_count": null,
   "metadata": {
    "tags": []
   },
   "outputs": [],
   "source": [
    "#%pip install bayesian-optimization"
   ]
  },
  {
   "cell_type": "code",
   "execution_count": null,
   "metadata": {
    "tags": []
   },
   "outputs": [],
   "source": [
    "from bayes_opt import BayesianOptimization"
   ]
  },
  {
   "cell_type": "code",
   "execution_count": null,
   "metadata": {
    "tags": []
   },
   "outputs": [],
   "source": [
    "def xgb_cv(max_depth, \n",
    "           learning_rate, \n",
    "           n_estimators, \n",
    "           subsample, \n",
    "           reg_lambda,\n",
    "           colsample_bytree,\n",
    "           gamma\n",
    "          ):\n",
    "    \n",
    "    xgb = XGBClassifier(n_jobs=-1,\n",
    "                        max_depth=int(max_depth),\n",
    "                        learning_rate=learning_rate,\n",
    "                        n_estimators=int(n_estimators),\n",
    "                        subsample=subsample,\n",
    "                        reg_lambda=reg_lambda,\n",
    "                        random_state=1234,\n",
    "                        colsample_bytree=colsample_bytree,\n",
    "                        gamma=gamma\n",
    "                       )\n",
    "    \n",
    "    return cross_val_score(xgb, \n",
    "                           X_train, \n",
    "                           y_train, \n",
    "                           scoring='accuracy', cv=3).mean()"
   ]
  },
  {
   "cell_type": "code",
   "execution_count": null,
   "metadata": {
    "tags": []
   },
   "outputs": [],
   "source": [
    "xgb_opt = BayesianOptimization(xgb_cv,\n",
    "                                 {'max_depth': [3, 10],\n",
    "                                  'learning_rate': [0.001, 0.1],\n",
    "                                  'n_estimators': [100, 200],\n",
    "                                  'subsample': [0.7, 0.8],\n",
    "                                  'reg_lambda': [0.01, 0.1],\n",
    "                                  'colsample_bytree': [0.8, 1],\n",
    "                                  'gamma': [0.1, 0.9]\n",
    "                                  }, random_state=1234)"
   ]
  },
  {
   "cell_type": "code",
   "execution_count": null,
   "metadata": {
    "tags": []
   },
   "outputs": [],
   "source": [
    "xgb_opt.maximize(init_points=2, n_iter=5)"
   ]
  },
  {
   "cell_type": "code",
   "execution_count": null,
   "metadata": {
    "scrolled": true,
    "tags": []
   },
   "outputs": [],
   "source": [
    "xgb_opt.max"
   ]
  },
  {
   "cell_type": "code",
   "execution_count": null,
   "metadata": {
    "tags": []
   },
   "outputs": [],
   "source": [
    "best_params = xgb_opt.max['params']\n",
    "best_params"
   ]
  },
  {
   "cell_type": "code",
   "execution_count": null,
   "metadata": {
    "tags": []
   },
   "outputs": [],
   "source": [
    "best_params['max_depth']"
   ]
  },
  {
   "cell_type": "code",
   "execution_count": null,
   "metadata": {
    "tags": []
   },
   "outputs": [],
   "source": [
    "xgb_bayes = XGBClassifier(max_depth=int(best_params['max_depth']),\n",
    "                          learning_rate=best_params['learning_rate'],\n",
    "                          n_estimators=int(best_params['n_estimators']),\n",
    "                          reg_lambda=best_params['reg_lambda'],\n",
    "                          subsample=best_params['subsample'])"
   ]
  },
  {
   "cell_type": "code",
   "execution_count": null,
   "metadata": {
    "tags": []
   },
   "outputs": [],
   "source": [
    "xgb_bayes.fit(X_train, y_train)"
   ]
  },
  {
   "cell_type": "code",
   "execution_count": null,
   "metadata": {
    "tags": []
   },
   "outputs": [],
   "source": [
    "y_pred_bayes = xgb_bayes.predict(X_test)\n",
    "evaluate(xgb_bayes, y_pred_bayes)"
   ]
  }
 ],
 "metadata": {
  "kernelspec": {
   "display_name": "pytorch",
   "language": "python",
   "name": "pytorch"
  },
  "language_info": {
   "codemirror_mode": {
    "name": "ipython",
    "version": 3
   },
   "file_extension": ".py",
   "mimetype": "text/x-python",
   "name": "python",
   "nbconvert_exporter": "python",
   "pygments_lexer": "ipython3",
   "version": "3.9.17"
  }
 },
 "nbformat": 4,
 "nbformat_minor": 4
}
