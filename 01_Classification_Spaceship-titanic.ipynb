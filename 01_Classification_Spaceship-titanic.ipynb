{
 "cells": [
  {
   "cell_type": "markdown",
   "id": "1fdc7ff6-c477-45dd-83c7-d25865421176",
   "metadata": {
    "tags": []
   },
   "source": [
    "# Machine Learning: Classification\n",
    "### 작성: 고우주 | kubwa 쿱와"
   ]
  },
  {
   "cell_type": "code",
   "execution_count": null,
   "id": "75ffbb38-5365-4590-bf50-50f6a85e9c0a",
   "metadata": {},
   "outputs": [],
   "source": [
    "import numpy as np\n",
    "import pandas as pd\n",
    "import matplotlib.pyplot as plt\n",
    "\n",
    "import warnings\n",
    "warnings.filterwarnings('ignore')"
   ]
  },
  {
   "cell_type": "markdown",
   "id": "0467308f-ce39-4020-aded-62b64e424f2d",
   "metadata": {},
   "source": [
    "## 1. 데이터 불러오기"
   ]
  },
  {
   "cell_type": "code",
   "execution_count": null,
   "id": "939dd0b7-ed99-4f9d-b89c-598e30c9ba88",
   "metadata": {},
   "outputs": [],
   "source": [
    "df = pd.read_csv('../dataset/spaceship-titanic.csv')\n",
    "df.head()"
   ]
  },
  {
   "cell_type": "markdown",
   "id": "2e7738c4-0de7-4761-a61e-b731423ca840",
   "metadata": {},
   "source": [
    "## 2. 데이터 탐색"
   ]
  },
  {
   "cell_type": "code",
   "execution_count": null,
   "id": "cfa96416-badb-4dc6-8c0a-5e1088a487f1",
   "metadata": {},
   "outputs": [],
   "source": [
    "df.shape"
   ]
  },
  {
   "cell_type": "code",
   "execution_count": null,
   "id": "56a3d80e-cf60-469b-a165-19e78bbb2f4f",
   "metadata": {},
   "outputs": [],
   "source": [
    "df.info()"
   ]
  },
  {
   "cell_type": "code",
   "execution_count": null,
   "id": "89dd4e8e-c285-4c4d-956f-3956cf996b2b",
   "metadata": {},
   "outputs": [],
   "source": [
    "df.describe()"
   ]
  },
  {
   "cell_type": "code",
   "execution_count": null,
   "id": "a3a42445-96a2-40b3-a68e-234d666e8b7d",
   "metadata": {},
   "outputs": [],
   "source": [
    "df.isnull().sum()"
   ]
  },
  {
   "cell_type": "markdown",
   "id": "7295e64e-df3f-4521-8b62-1befc09788b6",
   "metadata": {},
   "source": [
    "## 3. 데이터 전처리"
   ]
  },
  {
   "cell_type": "code",
   "execution_count": null,
   "id": "2be2fa03-a197-46d8-a5de-bf28b6bf9642",
   "metadata": {},
   "outputs": [],
   "source": [
    "RANDOM_STATE = 100\n",
    "FOLDS = 5\n",
    "STRATEGY = 'median'"
   ]
  },
  {
   "cell_type": "code",
   "execution_count": null,
   "id": "8411d303-ddf8-45ae-a780-29bdf2f64c80",
   "metadata": {},
   "outputs": [],
   "source": [
    "df.drop([\"PassengerId\"] , axis = 1 , inplace = True)\n",
    "\n",
    "TARGET = 'Transported'\n",
    "FEATURES = [col for col in df.columns if col != TARGET]"
   ]
  },
  {
   "cell_type": "code",
   "execution_count": null,
   "id": "7eb52bff-af3b-4cc5-af2a-afe03d720ef7",
   "metadata": {},
   "outputs": [],
   "source": [
    "FEATURES"
   ]
  },
  {
   "cell_type": "markdown",
   "id": "fc9946ab-7961-4b4e-8148-caf3a06ec387",
   "metadata": {},
   "source": [
    "### 3.1 Numerical Features"
   ]
  },
  {
   "cell_type": "markdown",
   "id": "170c7c1c-79ef-4b79-8c0d-ab4a077d550f",
   "metadata": {},
   "source": [
    "#### 3.1.1 결측치 처리: Imputing Missing Values"
   ]
  },
  {
   "cell_type": "code",
   "execution_count": null,
   "id": "f8a87cc1-9af4-48d0-8292-d5576637d09f",
   "metadata": {},
   "outputs": [],
   "source": [
    "from sklearn.impute import SimpleImputer\n",
    "\n",
    "imputer_cols = [\"Age\", \"FoodCourt\", \"ShoppingMall\", \"Spa\", \"VRDeck\" ,\"RoomService\"]\n",
    "\n",
    "imputer = SimpleImputer(strategy=STRATEGY)\n",
    "imputer.fit(df[imputer_cols])\n",
    "\n",
    "df[imputer_cols] = imputer.transform(df[imputer_cols])\n",
    "df[\"HomePlanet\"].fillna('Z', inplace=True)"
   ]
  },
  {
   "cell_type": "code",
   "execution_count": null,
   "id": "4dc0cf53-844f-49f8-943d-c4c1981dc658",
   "metadata": {},
   "outputs": [],
   "source": [
    "df.isnull().sum()"
   ]
  },
  {
   "cell_type": "markdown",
   "id": "8a5100eb-5567-4814-b870-e2aa6add90d7",
   "metadata": {},
   "source": [
    "#### 3.1.2 TotalPayement 추출"
   ]
  },
  {
   "cell_type": "code",
   "execution_count": null,
   "id": "435be9d3-2ef0-420e-82d9-81330e612bf1",
   "metadata": {
    "tags": []
   },
   "outputs": [],
   "source": [
    "df['TotalPayment'] = df[\"FoodCourt\"] + df[\"ShoppingMall\"] + df[\"Spa\"] + df[\"VRDeck\"] + df[\"RoomService\"]\n",
    "df.head()"
   ]
  },
  {
   "cell_type": "markdown",
   "id": "0493b93d-1a70-4dd9-92fd-9dfd88692d40",
   "metadata": {},
   "source": [
    "### 3.2 Categorical Features"
   ]
  },
  {
   "cell_type": "markdown",
   "id": "1aea4c52-8c5d-45a5-9312-84b8ff59cd83",
   "metadata": {},
   "source": [
    "#### 3.2.1 AgeGroup 추출"
   ]
  },
  {
   "cell_type": "code",
   "execution_count": null,
   "id": "f5ebbabb-372d-4d75-89dd-ccf3b76c59a4",
   "metadata": {
    "tags": []
   },
   "outputs": [],
   "source": [
    "df['AgeGroup'] = np.where(df['Age'] <= 3, 'Baby', np.where(\n",
    "    df['Age'] <= 12, 'Child', np.where(\n",
    "    df['Age'] <= 19, 'Adolescent', np.where(\n",
    "    df['Age'] <= 50, 'Adult', 'Eldery'))))\n",
    "df.head()"
   ]
  },
  {
   "cell_type": "markdown",
   "id": "798e0618-3e7d-4f2c-9c1e-f06b98737e69",
   "metadata": {},
   "source": [
    "#### 3.2.2 Cabin > Dec, Num, Side 추출"
   ]
  },
  {
   "cell_type": "code",
   "execution_count": null,
   "id": "083c3679-e97e-4e35-848c-794bb09340d8",
   "metadata": {
    "tags": []
   },
   "outputs": [],
   "source": [
    "df[['Deck', 'Num','Side']] = df['Cabin'].str.split('/', expand = True,)\n",
    "df.head()"
   ]
  },
  {
   "cell_type": "markdown",
   "id": "1e69bd38-6e3a-4b8a-9347-cdb202d0ff52",
   "metadata": {},
   "source": [
    "#### 3.2.3 FamilyName 추출"
   ]
  },
  {
   "cell_type": "code",
   "execution_count": null,
   "id": "a99b5804-6b6b-4e80-8393-8173b0d0cbc6",
   "metadata": {
    "tags": []
   },
   "outputs": [],
   "source": [
    "df[\"FamilyName\"] = df[\"Name\"].str.split(' ').str[-1]\n",
    "df.head()"
   ]
  },
  {
   "cell_type": "code",
   "execution_count": null,
   "id": "8ba1cdd2-2d0d-4e04-999a-248ede5fcc90",
   "metadata": {
    "tags": []
   },
   "outputs": [],
   "source": [
    "df.columns"
   ]
  },
  {
   "cell_type": "markdown",
   "id": "71ee2f99-e9f0-46a4-984c-d82eaf97668e",
   "metadata": {},
   "source": [
    "### 3.3 Encoding Categorical Features"
   ]
  },
  {
   "cell_type": "markdown",
   "id": "d94668b7-9ae9-4e4c-8318-17ae77e23c3d",
   "metadata": {},
   "source": [
    "#### 3.3.1 Label Encoding"
   ]
  },
  {
   "cell_type": "code",
   "execution_count": null,
   "id": "9b119dc6-d7d3-4652-922e-f7d2499e21bd",
   "metadata": {},
   "outputs": [],
   "source": [
    "from sklearn.preprocessing import LabelEncoder\n",
    "\n",
    "label_cols = [\"HomePlanet\", \"CryoSleep\",\"Cabin\", \"Destination\" ,\"VIP\", \"Transported\", \"Deck\", \"Num\", \"Side\", \"FamilyName\"]\n",
    "\n",
    "def label_encoder(df,columns):\n",
    "    for col in columns:\n",
    "        df[col] = df[col].astype(str)\n",
    "        df[col] = LabelEncoder().fit_transform(df[col])\n",
    "    return df\n",
    "\n",
    "df = label_encoder(df ,label_cols)\n",
    "df.head()"
   ]
  },
  {
   "cell_type": "markdown",
   "id": "a4f25dc2-4830-432d-bae2-190e05ee9323",
   "metadata": {},
   "source": [
    "#### 3.3.2 One Hot Encoding"
   ]
  },
  {
   "cell_type": "code",
   "execution_count": null,
   "id": "5141e2f0-e43a-4c29-8649-c6e1e8cff8d0",
   "metadata": {
    "tags": []
   },
   "outputs": [],
   "source": [
    "from sklearn.preprocessing import OneHotEncoder\n",
    "\n",
    "onehot_cols = [\"AgeGroup\"]\n",
    "\n",
    "def one_hot_encoder(df, columns):\n",
    "    for col in columns:\n",
    "        df_onehot = pd.get_dummies(df[col], drop_first=True, dtype=float)\n",
    "        df = pd.concat([df, df_onehot], axis=1)\n",
    "        df.drop(col, axis=1, inplace=True)  \n",
    "    return df\n",
    "\n",
    "df = one_hot_encoder(df ,onehot_cols)\n",
    "df.head()"
   ]
  },
  {
   "cell_type": "code",
   "execution_count": null,
   "id": "87198481-a2c3-4dce-8b87-182a6ed3a41c",
   "metadata": {},
   "outputs": [],
   "source": [
    "df.drop([\"Name\" ,\"Cabin\"] , axis = 1 ,inplace = True)\n",
    "df.head()"
   ]
  },
  {
   "cell_type": "markdown",
   "id": "c2163438-df91-4108-b70a-becbb340240d",
   "metadata": {},
   "source": [
    "### 3.5 전처리 완료 저장"
   ]
  },
  {
   "cell_type": "code",
   "execution_count": null,
   "id": "97be866c-dcc5-4eb7-a7f7-d948ff1429c6",
   "metadata": {},
   "outputs": [],
   "source": [
    "# 전처리 파일 저장\n",
    "df.to_csv('../dataset/spaceship-preprocessing.csv', index=False)"
   ]
  },
  {
   "cell_type": "markdown",
   "id": "5c305ff6-de00-4709-9910-9577dbd2f03e",
   "metadata": {},
   "source": [
    "## 4. 상관관계"
   ]
  },
  {
   "cell_type": "code",
   "execution_count": null,
   "id": "4ba99dee-2e08-4a48-90bd-d4ffe423171d",
   "metadata": {},
   "outputs": [],
   "source": [
    "import seaborn as sns\n",
    "\n",
    "plt.figure(figsize=(12, 12))\n",
    "sns.heatmap(df.corr(), annot=True, cmap='coolwarm')\n",
    "plt.show()"
   ]
  },
  {
   "cell_type": "markdown",
   "id": "143dc949-9c86-4427-be97-5f8351fd27e9",
   "metadata": {},
   "source": [
    "## 5. Feature Selection: Train/Test Split"
   ]
  },
  {
   "cell_type": "code",
   "execution_count": null,
   "id": "919805bf-c99d-43f3-8fbf-af61a4f43799",
   "metadata": {},
   "outputs": [],
   "source": [
    "from sklearn.model_selection import train_test_split\n",
    "\n",
    "X = df.drop(TARGET , axis =1 )\n",
    "y = df[TARGET]\n",
    "X_train , X_test , y_train , y_test = train_test_split(X , \n",
    "                                                       y, \n",
    "                                                       random_state = RANDOM_STATE,\n",
    "                                                       train_size =0.8)\n",
    "\n",
    "X_train.shape, X_test.shape"
   ]
  },
  {
   "cell_type": "markdown",
   "id": "275cb013-53dc-41bb-acf0-1032ec3d4b25",
   "metadata": {},
   "source": [
    "## 6. Feature Scaling"
   ]
  },
  {
   "cell_type": "code",
   "execution_count": null,
   "id": "b5ddfa13-2964-409d-8a27-77801435b085",
   "metadata": {
    "tags": []
   },
   "outputs": [],
   "source": [
    "from sklearn.preprocessing import StandardScaler\n",
    "\n",
    "sc = StandardScaler()\n",
    "X_train = sc.fit_transform(X_train)\n",
    "X_test = sc.transform(X_test)"
   ]
  },
  {
   "cell_type": "markdown",
   "id": "80a19f27-55f4-470a-bf68-c00cc1967ce4",
   "metadata": {},
   "source": [
    "## 7. Modeling"
   ]
  },
  {
   "cell_type": "code",
   "execution_count": null,
   "id": "28b9d758-3a63-499d-9da7-18cd5d0b8b49",
   "metadata": {
    "tags": []
   },
   "outputs": [],
   "source": [
    "from sklearn.metrics import classification_report, ConfusionMatrixDisplay, RocCurveDisplay\n",
    "\n",
    "def plot_confusion_matrix(model, X_test, y_test):\n",
    "    disp = ConfusionMatrixDisplay.from_estimator(model,\n",
    "                                                 X_test, y_test,\n",
    "                                                 cmap=plt.cm.Blues)\n",
    "def plot_roc_curve(model, X_test, y_test):\n",
    "    RocCurveDisplay.from_estimator(model, X_test, y_test)\n",
    "    plt.show()\n",
    "    \n",
    "def evaluate(model, y_pred):\n",
    "    plot_confusion_matrix(model, X_test, y_test)\n",
    "    print(classification_report(y_test, y_pred))\n",
    "    plot_roc_curve(model, X_test, y_test)"
   ]
  },
  {
   "cell_type": "markdown",
   "id": "4903319e-a777-4eb4-b282-11f19549387c",
   "metadata": {},
   "source": [
    "### 7.1 Logistic Regression"
   ]
  },
  {
   "cell_type": "code",
   "execution_count": null,
   "id": "a56d31af-637b-4578-9775-d5764194ef7d",
   "metadata": {},
   "outputs": [],
   "source": [
    "from sklearn.linear_model import LogisticRegression\n",
    "\n",
    "lgr = LogisticRegression()\n",
    "lgr.fit(X_train, y_train)\n",
    "\n",
    "lgr_preds = lgr.predict(X_test)"
   ]
  },
  {
   "cell_type": "code",
   "execution_count": null,
   "id": "c8601f25-e3c2-4cfb-859f-bd5bb8f95db4",
   "metadata": {
    "tags": []
   },
   "outputs": [],
   "source": [
    "lgr_preds"
   ]
  },
  {
   "cell_type": "code",
   "execution_count": null,
   "id": "10ec5bd8-dc21-4313-8711-9d2037a26a36",
   "metadata": {},
   "outputs": [],
   "source": [
    "lgr_pred_proba = lgr.predict_proba(X_test)\n",
    "lgr_pred_proba"
   ]
  },
  {
   "cell_type": "code",
   "execution_count": null,
   "id": "7c0a65f5-6eb3-4cbf-ba05-2fafb977d63c",
   "metadata": {
    "tags": []
   },
   "outputs": [],
   "source": [
    "lgr_pred_proba[-2]"
   ]
  },
  {
   "cell_type": "code",
   "execution_count": null,
   "id": "a081120c-bab3-4c51-9c0e-5777a9b04a4f",
   "metadata": {},
   "outputs": [],
   "source": [
    "lgr_pred_proba[-2].argmax()"
   ]
  },
  {
   "cell_type": "code",
   "execution_count": null,
   "id": "84b9d6e2-e13e-4f3e-b367-fa9f5009a884",
   "metadata": {},
   "outputs": [],
   "source": [
    "lgr_preds"
   ]
  },
  {
   "cell_type": "code",
   "execution_count": null,
   "id": "59475ce5-b7cb-4241-93d9-6f5ad8b4d072",
   "metadata": {},
   "outputs": [],
   "source": [
    "evaluate(lgr, lgr_preds)"
   ]
  },
  {
   "cell_type": "markdown",
   "id": "3ec90055-619f-455a-8424-eaf23b3870d1",
   "metadata": {},
   "source": [
    "### 7.2 RandomForest"
   ]
  },
  {
   "cell_type": "code",
   "execution_count": null,
   "id": "ded07263-c346-4de3-aded-9fe413db3be2",
   "metadata": {},
   "outputs": [],
   "source": [
    "from sklearn.ensemble import RandomForestClassifier\n",
    "\n",
    "rf = RandomForestClassifier(n_estimators=1000, max_leaf_nodes=16, n_jobs=-1)\n",
    "rf.fit(X_train, y_train)\n",
    "rf_preds = rf.predict(X_test)"
   ]
  },
  {
   "cell_type": "code",
   "execution_count": null,
   "id": "5fd609f0-0660-4c7c-80b8-2e188bae5666",
   "metadata": {},
   "outputs": [],
   "source": [
    "evaluate(rf, rf_preds)"
   ]
  },
  {
   "cell_type": "markdown",
   "id": "d63db8c9-7972-4d41-ad27-9b44ec5e161e",
   "metadata": {},
   "source": [
    "### 7.3 XGBoost"
   ]
  },
  {
   "cell_type": "code",
   "execution_count": null,
   "id": "a0a87a73-a484-4a47-833e-19c2eb7b9454",
   "metadata": {},
   "outputs": [],
   "source": [
    "#!pip install xgboost"
   ]
  },
  {
   "cell_type": "code",
   "execution_count": null,
   "id": "19d327d4-c21b-4be0-9f18-5ff052105aec",
   "metadata": {},
   "outputs": [],
   "source": [
    "from xgboost import XGBClassifier\n",
    "\n",
    "xgb = XGBClassifier()\n",
    "xgb.fit(X_train, y_train)\n",
    "xgb_preds = xgb.predict(X_test)"
   ]
  },
  {
   "cell_type": "code",
   "execution_count": null,
   "id": "b500d5be-d2b1-49f2-b108-6293f4fcdc25",
   "metadata": {},
   "outputs": [],
   "source": [
    "evaluate(xgb, xgb_preds)"
   ]
  },
  {
   "cell_type": "markdown",
   "id": "9bd8f6b1-f5e2-4e94-82e7-2ae1a60a30a8",
   "metadata": {},
   "source": [
    "### 7.4 CatBoost"
   ]
  },
  {
   "cell_type": "code",
   "execution_count": null,
   "id": "18ea862e-0e58-468c-abd7-d6292a923727",
   "metadata": {},
   "outputs": [],
   "source": [
    "#%pip install catboost"
   ]
  },
  {
   "cell_type": "code",
   "execution_count": null,
   "id": "96d2dae7-51cb-4db4-943d-3987ad7d4446",
   "metadata": {},
   "outputs": [],
   "source": [
    "from catboost import CatBoostClassifier\n",
    "\n",
    "cbc = CatBoostClassifier()\n",
    "cbc.fit(X_train, y_train, verbose=0)\n",
    "cbc_preds = cbc.predict(X_test)"
   ]
  },
  {
   "cell_type": "code",
   "execution_count": null,
   "id": "4df7ac45-0720-4b7e-815c-d0ec080b1847",
   "metadata": {},
   "outputs": [],
   "source": [
    "evaluate(cbc, cbc_preds)"
   ]
  },
  {
   "cell_type": "markdown",
   "id": "34e0bcd3-fa88-47ce-a428-bb71d3e7d2ba",
   "metadata": {},
   "source": [
    "### 7.5 MLP(Multi Layered Perceptron)\n",
    "> `MLPClassifier`(hidden_layer_sizes=(100,), activation='relu', *, solver='adam', alpha=0.0001, batch_size='auto', learning_rate='constant', learning_rate_init=0.001, power_t=0.5, max_iter=200, shuffle=True, random_state=None, tol=0.0001, verbose=False, warm_start=False, momentum=0.9, nesterovs_momentum=True, early_stopping=False, validation_fraction=0.1, beta_1=0.9, beta_2=0.999, epsilon=1e-08, n_iter_no_change=10, max_fun=15000)[source]"
   ]
  },
  {
   "cell_type": "code",
   "execution_count": null,
   "id": "2d35e5e2-c48b-4aa1-bdbe-464069d978ef",
   "metadata": {
    "tags": []
   },
   "outputs": [],
   "source": [
    "from sklearn.neural_network import MLPClassifier\n",
    "\n",
    "mlp = MLPClassifier(hidden_layer_sizes=(512,), \n",
    "                    max_iter=300, \n",
    "                    early_stopping=True, \n",
    "                    validation_fraction=0.2, \n",
    "                    random_state=1)\n",
    "mlp.fit(X_train, y_train)\n",
    "mlp_preds = mlp.predict(X_test)"
   ]
  },
  {
   "cell_type": "code",
   "execution_count": null,
   "id": "1b95f79f-8be3-4095-8d14-a4dadb8c76a1",
   "metadata": {
    "tags": []
   },
   "outputs": [],
   "source": [
    "evaluate(mlp, mlp_preds)"
   ]
  },
  {
   "cell_type": "code",
   "execution_count": null,
   "id": "ab14d82a-64ef-475d-8465-3cae5fce70f7",
   "metadata": {},
   "outputs": [],
   "source": []
  }
 ],
 "metadata": {
  "kernelspec": {
   "display_name": "geo38",
   "language": "python",
   "name": "geo38"
  },
  "language_info": {
   "codemirror_mode": {
    "name": "ipython",
    "version": 3
   },
   "file_extension": ".py",
   "mimetype": "text/x-python",
   "name": "python",
   "nbconvert_exporter": "python",
   "pygments_lexer": "ipython3",
   "version": "3.8.12"
  }
 },
 "nbformat": 4,
 "nbformat_minor": 5
}
